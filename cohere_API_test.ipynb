{
  "nbformat": 4,
  "nbformat_minor": 0,
  "metadata": {
    "colab": {
      "provenance": [],
      "private_outputs": true,
      "authorship_tag": "ABX9TyOHPVrdGS6FcKb+Z8NoGdIX",
      "include_colab_link": true
    },
    "kernelspec": {
      "name": "python3",
      "display_name": "Python 3"
    },
    "language_info": {
      "name": "python"
    }
  },
  "cells": [
    {
      "cell_type": "markdown",
      "metadata": {
        "id": "view-in-github",
        "colab_type": "text"
      },
      "source": [
        "<a href=\"https://colab.research.google.com/github/workszop/notebooks/blob/main/cohere_API_test.ipynb\" target=\"_parent\"><img src=\"https://colab.research.google.com/assets/colab-badge.svg\" alt=\"Open In Colab\"/></a>"
      ]
    },
    {
      "cell_type": "markdown",
      "source": [
        "# Cohere\n",
        "\n",
        "Cohere offers free trial API keys, we can use to chat to their model.\n",
        "\n",
        "[API key](https://dashboard.cohere.com/api-keys)  \n",
        "[API documentation](https://docs.cohere.com/docs/cochat-beta)"
      ],
      "metadata": {
        "id": "TtuYDYuZ_Tae"
      }
    },
    {
      "cell_type": "markdown",
      "source": [
        "## Chat"
      ],
      "metadata": {
        "id": "x6FJm4u2ugBj"
      }
    },
    {
      "cell_type": "code",
      "execution_count": null,
      "metadata": {
        "id": "i0UFy6XA8Gtz"
      },
      "outputs": [],
      "source": [
        "!pip install cohere"
      ]
    },
    {
      "cell_type": "code",
      "source": [
        "import cohere\n",
        "key = input('podaj swój API key cohere:\\n')\n",
        "co = cohere.Client(key)"
      ],
      "metadata": {
        "id": "mkrLAYDi8J_0"
      },
      "execution_count": null,
      "outputs": []
    },
    {
      "cell_type": "code",
      "source": [
        "prompt = input('how can I help you?\\n')\n",
        "\n",
        "stream = co.chat_stream(message=prompt, temperature=0.3)\n",
        "\n",
        "for event in stream:\n",
        "    if event.event_type == 'text-generation':\n",
        "        print(event.text, end='')"
      ],
      "metadata": {
        "id": "R18Csjgm8_76"
      },
      "execution_count": null,
      "outputs": []
    },
    {
      "cell_type": "markdown",
      "source": [
        "## Chat and Internet search"
      ],
      "metadata": {
        "id": "HwHJV_qgseht"
      }
    },
    {
      "cell_type": "code",
      "source": [
        "import cohere\n",
        "from google.colab import userdata\n",
        "key = userdata.get('cohere')\n",
        "co = cohere.Client(key)"
      ],
      "metadata": {
        "id": "i8znxO5iuprA"
      },
      "execution_count": null,
      "outputs": []
    },
    {
      "cell_type": "code",
      "source": [
        "response = co.chat(\n",
        "  model=\"command\",\n",
        "  message=\"Who invented TNT?\",\n",
        "  connectors=[{\"id\": \"web-search\"}])\n",
        "\n",
        "odpowiedz = response.text\n",
        "odpowiedz"
      ],
      "metadata": {
        "id": "8XElbCTgux03"
      },
      "execution_count": null,
      "outputs": []
    },
    {
      "cell_type": "code",
      "source": [
        "response = co.chat(\n",
        "  model=\"command\",\n",
        "  message=\"summarize in one sentence:\"+odpowiedz)"
      ],
      "metadata": {
        "id": "VyzOzScgik_t"
      },
      "execution_count": null,
      "outputs": []
    },
    {
      "cell_type": "code",
      "source": [
        "response.text"
      ],
      "metadata": {
        "id": "-auV9pzgjBQm"
      },
      "execution_count": null,
      "outputs": []
    }
  ]
}