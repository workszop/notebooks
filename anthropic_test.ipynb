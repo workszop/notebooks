{
  "nbformat": 4,
  "nbformat_minor": 0,
  "metadata": {
    "colab": {
      "provenance": [],
      "collapsed_sections": [
        "B26Z-WGTjx9V",
        "yOgld_JakGZZ",
        "g7eJzs8uj2S8"
      ],
      "private_outputs": true,
      "authorship_tag": "ABX9TyOP78F9zjfomVX7BtgUXGRG",
      "include_colab_link": true
    },
    "kernelspec": {
      "name": "python3",
      "display_name": "Python 3"
    },
    "language_info": {
      "name": "python"
    }
  },
  "cells": [
    {
      "cell_type": "markdown",
      "metadata": {
        "id": "view-in-github",
        "colab_type": "text"
      },
      "source": [
        "<a href=\"https://colab.research.google.com/github/workszop/notebooks/blob/main/anthropic_test.ipynb\" target=\"_parent\"><img src=\"https://colab.research.google.com/assets/colab-badge.svg\" alt=\"Open In Colab\"/></a>"
      ]
    },
    {
      "cell_type": "markdown",
      "source": [
        "info: https://console.anthropic.com/settings/usage  \n",
        "console: https://console.anthropic.com/workbench/a711942c-4a94-47b6-ac53-5b9aaf04ca6a\n",
        "\n",
        "```\n",
        "models:\n",
        "- claude-3-haiku-20240307   Input: $0.25 / MTok, Output: $1.25 / MTok\n",
        "- claude-3-sonnet-20240229  Input: $3 / MTok, Output: $15 / MTok\n",
        "- claude-3-opus-20240229    Input: $15 / MTok, Output: $75 / MTok\n",
        "```"
      ],
      "metadata": {
        "id": "le6rMraYn8Lt"
      }
    },
    {
      "cell_type": "code",
      "source": [
        "!pip -qqq install anthropic\n",
        "\n",
        "import anthropic\n",
        "from google.colab import userdata\n",
        "\n",
        "api_key = input('provide your anthropic API key:\\n')\n",
        "\n",
        "client = anthropic.Anthropic(api_key=api_key)"
      ],
      "metadata": {
        "id": "UIa7ZRI7jD0T"
      },
      "execution_count": null,
      "outputs": []
    },
    {
      "cell_type": "markdown",
      "source": [
        "# basics"
      ],
      "metadata": {
        "id": "B26Z-WGTjx9V"
      }
    },
    {
      "cell_type": "code",
      "execution_count": null,
      "metadata": {
        "id": "r3rTuWHoiygj"
      },
      "outputs": [],
      "source": [
        "prompt = 'kto wynalazł laser?'\n",
        "\n",
        "\n",
        "message = client.messages.create(\n",
        "    model=\"claude-3-opus-20240229\",\n",
        "    max_tokens=1024,\n",
        "    messages=[\n",
        "        {\"role\": \"user\", \"content\": prompt}\n",
        "    ]\n",
        ")\n",
        "print(message.content[0].text)"
      ]
    },
    {
      "cell_type": "code",
      "source": [
        "message"
      ],
      "metadata": {
        "id": "HPQK0p2Emb2b"
      },
      "execution_count": null,
      "outputs": []
    },
    {
      "cell_type": "code",
      "source": [
        "prompt = 'kto wynalazł laser?'\n",
        "\n",
        "\n",
        "message = client.messages.create(\n",
        "    model=\"claude-3-haiku-20240307\",\n",
        "    max_tokens=1024,\n",
        "    messages=[\n",
        "        {\"role\": \"user\", \"content\": prompt}\n",
        "    ]\n",
        ")\n",
        "print(message.content[0].text)"
      ],
      "metadata": {
        "id": "EOGo0E3wrLUo"
      },
      "execution_count": null,
      "outputs": []
    },
    {
      "cell_type": "markdown",
      "source": [
        "# images"
      ],
      "metadata": {
        "id": "yOgld_JakGZZ"
      }
    },
    {
      "cell_type": "code",
      "source": [
        "!wget -O picture.jpg https://hoof.net.au/site/assets/files/1072/street-poster1.690x0.jpg"
      ],
      "metadata": {
        "id": "oB1LgJgZkIqE"
      },
      "execution_count": null,
      "outputs": []
    },
    {
      "cell_type": "code",
      "source": [
        "from IPython.display import Image\n",
        "Image(filename='picture.jpg')"
      ],
      "metadata": {
        "id": "hOvVQ1hvkDfE"
      },
      "execution_count": null,
      "outputs": []
    },
    {
      "cell_type": "code",
      "source": [
        "import base64\n",
        "\n",
        "\n",
        "with open(\"picture.jpg\", \"rb\") as image_file:\n",
        "    binary_data = image_file.read()\n",
        "    base_64_encoded_data = base64.b64encode(binary_data)\n",
        "    base64_string = base_64_encoded_data.decode('utf-8')\n",
        "\n",
        "\n",
        "message_list = [\n",
        "    {\n",
        "        \"role\": 'user',\n",
        "        \"content\": [\n",
        "            {\"type\": \"image\", \"source\": {\"type\": \"base64\", \"media_type\": \"image/jpeg\", \"data\": base64_string}},\n",
        "            {\"type\": \"text\", \"text\": \"what is written on a poster with accordion\"}\n",
        "        ]\n",
        "    }\n",
        "]\n",
        "\n",
        "response = client.messages.create(\n",
        "    model=\"claude-3-opus-20240229\",\n",
        "    max_tokens=2048,\n",
        "    messages=message_list\n",
        ")\n",
        "print(response.content[0].text)\n"
      ],
      "metadata": {
        "id": "RAaEEBJFlG5w"
      },
      "execution_count": null,
      "outputs": []
    }
  ]
}